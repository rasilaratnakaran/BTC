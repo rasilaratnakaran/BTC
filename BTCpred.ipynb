{
  "nbformat": 4,
  "nbformat_minor": 0,
  "metadata": {
    "colab": {
      "provenance": []
    },
    "kernelspec": {
      "name": "python3",
      "display_name": "Python 3"
    },
    "language_info": {
      "name": "python"
    }
  },
  "cells": [
    {
      "cell_type": "code",
      "execution_count": 1,
      "metadata": {
        "id": "K29UGIeb4IVZ"
      },
      "outputs": [],
      "source": [
        "import pandas as pd\n",
        "import numpy as np\n",
        "import matplotlib.pyplot as plt\n",
        "from sklearn.model_selection import train_test_split\n",
        "from sklearn.preprocessing import StandardScaler, OneHotEncoder\n",
        "from sklearn.metrics import mean_absolute_error, mean_squared_error, r2_score\n",
        "from sklearn.ensemble import RandomForestRegressor\n",
        "from xgboost import XGBRegressor\n",
        "from sklearn.linear_model import LinearRegression\n",
        "from sklearn.model_selection import GridSearchCV\n",
        "from sklearn.ensemble import VotingRegressor\n"
      ]
    },
    {
      "cell_type": "code",
      "source": [
        "# Load the CSV data into a Pandas dataframe\n",
        "data = pd.read_csv('/content/BTC-USD.csv')\n",
        "\n",
        "# Inspect the data\n",
        "print(data.head())\n",
        "print(data.tail())\n",
        "print(data.info())\n",
        "print(data.describe())\n"
      ],
      "metadata": {
        "colab": {
          "base_uri": "https://localhost:8080/"
        },
        "id": "Xs_dDJhE4asu",
        "outputId": "da6d8bd0-e466-474b-890a-72e578a4bd45"
      },
      "execution_count": 2,
      "outputs": [
        {
          "output_type": "stream",
          "name": "stdout",
          "text": [
            "         Date          Open          High           Low         Close  \\\n",
            "0  2022-09-12  21770.148438  22439.181641  21603.896484  22370.449219   \n",
            "1  2022-09-13  22371.480469  22673.820313  20062.669922  20296.707031   \n",
            "2  2022-09-14  20184.554688  20467.201172  19793.396484  20241.089844   \n",
            "3  2022-09-15  20242.289063  20318.166016  19636.734375  19701.210938   \n",
            "4  2022-09-16  19704.005859  19870.628906  19400.076172  19772.583984   \n",
            "\n",
            "      Adj Close       Volume  \n",
            "0  22370.449219  50212088965  \n",
            "1  20296.707031  51091116622  \n",
            "2  20241.089844  37872380889  \n",
            "3  19701.210938  36389011503  \n",
            "4  19772.583984  30123362273  \n",
            "           Date          Open          High           Low         Close  \\\n",
            "361  2023-09-08  26245.208984  26414.005859  25677.480469  25905.654297   \n",
            "362  2023-09-09  25905.425781  25921.976563  25810.494141  25895.677734   \n",
            "363  2023-09-10  25895.210938  25978.130859  25640.261719  25832.226563   \n",
            "364  2023-09-11  25831.714844  25883.947266  24930.296875  25162.654297   \n",
            "365  2023-09-12  25154.376953  25923.285156  25134.943359  25864.832031   \n",
            "\n",
            "        Adj Close       Volume  \n",
            "361  25905.654297  10817356400  \n",
            "362  25895.677734   5481314132  \n",
            "363  25832.226563   7899553047  \n",
            "364  25162.654297  14600006467  \n",
            "365  25864.832031  18291681280  \n",
            "<class 'pandas.core.frame.DataFrame'>\n",
            "RangeIndex: 366 entries, 0 to 365\n",
            "Data columns (total 7 columns):\n",
            " #   Column     Non-Null Count  Dtype  \n",
            "---  ------     --------------  -----  \n",
            " 0   Date       366 non-null    object \n",
            " 1   Open       366 non-null    float64\n",
            " 2   High       366 non-null    float64\n",
            " 3   Low        366 non-null    float64\n",
            " 4   Close      366 non-null    float64\n",
            " 5   Adj Close  366 non-null    float64\n",
            " 6   Volume     366 non-null    int64  \n",
            "dtypes: float64(5), int64(1), object(1)\n",
            "memory usage: 20.1+ KB\n",
            "None\n",
            "               Open          High           Low         Close     Adj Close  \\\n",
            "count    366.000000    366.000000    366.000000    366.000000    366.000000   \n",
            "mean   23894.828792  24261.444726  23535.376494  23906.787451  23906.787451   \n",
            "std     4739.652125   4808.661180   4684.056133   4740.721837   4740.721837   \n",
            "min    15782.300781  16253.047852  15599.046875  15787.284180  15787.284180   \n",
            "25%    19428.610840  19668.903321  19135.375489  19427.987793  19427.987793   \n",
            "50%    24602.662110  25162.221680  24212.737304  24693.675781  24693.675781   \n",
            "75%    28067.094239  28508.125000  27443.696777  28075.270019  28075.270019   \n",
            "max    31474.720703  31814.515625  30659.355469  31476.048828  31476.048828   \n",
            "\n",
            "             Volume  \n",
            "count  3.660000e+02  \n",
            "mean   2.233142e+10  \n",
            "std    1.339861e+10  \n",
            "min    5.481314e+09  \n",
            "25%    1.337442e+10  \n",
            "50%    1.866693e+10  \n",
            "75%    2.737006e+10  \n",
            "max    1.189925e+11  \n"
          ]
        }
      ]
    },
    {
      "cell_type": "code",
      "source": [
        "# Handle missing values\n",
        "data.dropna(inplace=True)\n",
        "\n",
        "# Remove duplicate rows\n",
        "data.drop_duplicates(inplace=True)\n",
        "\n",
        "# Check for any remaining missing values\n",
        "print(data.isnull().sum())\n"
      ],
      "metadata": {
        "colab": {
          "base_uri": "https://localhost:8080/"
        },
        "id": "4tgCPWex4lMt",
        "outputId": "8ca5426b-7112-4b4c-df32-6aadd08d96e7"
      },
      "execution_count": 3,
      "outputs": [
        {
          "output_type": "stream",
          "name": "stdout",
          "text": [
            "Date         0\n",
            "Open         0\n",
            "High         0\n",
            "Low          0\n",
            "Close        0\n",
            "Adj Close    0\n",
            "Volume       0\n",
            "dtype: int64\n"
          ]
        }
      ]
    },
    {
      "cell_type": "code",
      "source": [
        "# Visualize the data\n",
        "plt.figure(figsize=(12, 6))\n",
        "plt.plot(data['Date'], data['Close'], label='Bitcoin Close Price', color='blue')\n",
        "plt.xlabel('Date')\n",
        "plt.ylabel('Price')\n",
        "plt.title('Bitcoin Price Over Time')\n",
        "plt.legend()\n",
        "plt.show()\n"
      ],
      "metadata": {
        "colab": {
          "base_uri": "https://localhost:8080/",
          "height": 564
        },
        "id": "rgKfP2xY4t0K",
        "outputId": "52b078a9-dfab-4172-b07d-93844a0b7662"
      },
      "execution_count": 4,
      "outputs": [
        {
          "output_type": "display_data",
          "data": {
            "text/plain": [
              "<Figure size 1200x600 with 1 Axes>"
            ],
            "image/png": "[encoded data removed]"
          },
          "metadata": {}
        }
      ]
    },
    {
      "cell_type": "code",
      "source": [
        "# Calculate daily price changes\n",
        "data['Price Change'] = data['Close'].diff()\n",
        "\n",
        "# Calculate moving averages\n",
        "data['MA_7'] = data['Close'].rolling(window=7).mean()\n",
        "data['MA_30'] = data['Close'].rolling(window=30).mean()\n",
        "\n",
        "# Calculate volatility indicators (e.g., Bollinger Bands, Average True Range, etc.)\n",
        "\n",
        "# You can add more feature engineering here based on your needs\n"
      ],
      "metadata": {
        "id": "Ul-iRRwW47H9"
      },
      "execution_count": 5,
      "outputs": []
    },
    {
      "cell_type": "code",
      "source": [
        "# Scale or normalize features as needed\n",
        "scaler = StandardScaler()\n",
        "data[['Close', 'Volume', 'Price Change', 'MA_7', 'MA_30']] = scaler.fit_transform(data[['Close', 'Volume', 'Price Change', 'MA_7', 'MA_30']])\n",
        "\n",
        "# Convert categorical variables to numeric (if any)\n",
        "# For example, you can one-hot encode categorical columns using OneHotEncoder\n"
      ],
      "metadata": {
        "id": "q74OAcn34_pl"
      },
      "execution_count": 6,
      "outputs": []
    },
    {
      "cell_type": "code",
      "source": [
        "import pandas as pd\n",
        "from sklearn.model_selection import train_test_split\n",
        "\n",
        "# Load the original data.csv\n",
        "data = pd.read_csv('/content/BTC-USD.csv')\n",
        "\n",
        "# Split the dataset into a training set and a test set (80% training, 20% test)\n",
        "X = data.drop(['Close', 'Date'], axis=1)\n",
        "y = data['Close']\n",
        "\n",
        "X_train, X_test, y_train, y_test = train_test_split(X, y, test_size=0.2, random_state=42)\n",
        "\n",
        "# Create training and test dataframes\n",
        "train_df = pd.concat([X_train, y_train], axis=1)\n",
        "test_df = pd.concat([X_test, y_test], axis=1)\n",
        "\n",
        "# Save the training and test dataframes as train.csv and test.csv\n",
        "train_df.to_csv('train.csv', index=False)\n",
        "test_df.to_csv('test.csv', index=False)\n",
        "data = pd.read_csv('/content/train.csv')\n"
      ],
      "metadata": {
        "id": "VhaRkmnKFz9n"
      },
      "execution_count": 22,
      "outputs": []
    },
    {
      "cell_type": "code",
      "source": [
        "# Drop rows with missing values in both training and test data\n",
        "X_train.dropna(inplace=True)\n",
        "y_train = y_train[X_train.index]  # Match the labels with the remaining rows\n",
        "X_test.dropna(inplace=True)\n",
        "y_test = y_test[X_test.index]  # Match the labels with the remaining rows\n"
      ],
      "metadata": {
        "id": "8GON6zm_7X3u"
      },
      "execution_count": 23,
      "outputs": []
    },
    {
      "cell_type": "code",
      "source": [
        "# Fine-tune hyperparameters for the best performing models using GridSearchCV\n",
        "param_grid = {\n",
        "    'n_estimators': [100, 200, 300],\n",
        "    'max_depth': [None, 10, 20],\n",
        "}\n",
        "\n",
        "grid_rf = GridSearchCV(RandomForestRegressor(), param_grid, cv=5)\n",
        "grid_rf.fit(X_train, y_train)\n",
        "\n",
        "# You can do the same for other models\n"
      ],
      "metadata": {
        "colab": {
          "base_uri": "https://localhost:8080/",
          "height": 117
        },
        "id": "r4e9aHkJ5Ut9",
        "outputId": "5540ca96-6502-4344-e4e1-d65d0f91587b"
      },
      "execution_count": 24,
      "outputs": [
        {
          "output_type": "execute_result",
          "data": {
            "text/plain": [
              "GridSearchCV(cv=5, estimator=RandomForestRegressor(),\n",
              "             param_grid={'max_depth': [None, 10, 20],\n",
              "                         'n_estimators': [100, 200, 300]})"
            ],
            "text/html": [
              "<style>#sk-container-id-3 {color: black;background-color: white;}#sk-container-id-3 pre{padding: 0;}#sk-container-id-3 div.sk-toggleable {background-color: white;}#sk-container-id-3 label.sk-toggleable__label {cursor: pointer;display: block;width: 100%;margin-bottom: 0;padding: 0.3em;box-sizing: border-box;text-align: center;}#sk-container-id-3 label.sk-toggleable__label-arrow:before {content: \"▸\";float: left;margin-right: 0.25em;color: #696969;}#sk-container-id-3 label.sk-toggleable__label-arrow:hover:before {color: black;}#sk-container-id-3 div.sk-estimator:hover label.sk-toggleable__label-arrow:before {color: black;}#sk-container-id-3 div.sk-toggleable__content {max-height: 0;max-width: 0;overflow: hidden;text-align: left;background-color: #f0f8ff;}#sk-container-id-3 div.sk-toggleable__content pre {margin: 0.2em;color: black;border-radius: 0.25em;background-color: #f0f8ff;}#sk-container-id-3 input.sk-toggleable__control:checked~div.sk-toggleable__content {max-height: 200px;max-width: 100%;overflow: auto;}#sk-container-id-3 input.sk-toggleable__control:checked~label.sk-toggleable__label-arrow:before {content: \"▾\";}#sk-container-id-3 div.sk-estimator input.sk-toggleable__control:checked~label.sk-toggleable__label {background-color: #d4ebff;}#sk-container-id-3 div.sk-label input.sk-toggleable__control:checked~label.sk-toggleable__label {background-color: #d4ebff;}#sk-container-id-3 input.sk-hidden--visually {border: 0;clip: rect(1px 1px 1px 1px);clip: rect(1px, 1px, 1px, 1px);height: 1px;margin: -1px;overflow: hidden;padding: 0;position: absolute;width: 1px;}#sk-container-id-3 div.sk-estimator {font-family: monospace;background-color: #f0f8ff;border: 1px dotted black;border-radius: 0.25em;box-sizing: border-box;margin-bottom: 0.5em;}#sk-container-id-3 div.sk-estimator:hover {background-color: #d4ebff;}#sk-container-id-3 div.sk-parallel-item::after {content: \"\";width: 100%;border-bottom: 1px solid gray;flex-grow: 1;}#sk-container-id-3 div.sk-label:hover label.sk-toggleable__label {background-color: #d4ebff;}#sk-container-id-3 div.sk-serial::before {content: \"\";position: absolute;border-left: 1px solid gray;box-sizing: border-box;top: 0;bottom: 0;left: 50%;z-index: 0;}#sk-container-id-3 div.sk-serial {display: flex;flex-direction: column;align-items: center;background-color: white;padding-right: 0.2em;padding-left: 0.2em;position: relative;}#sk-container-id-3 div.sk-item {position: relative;z-index: 1;}#sk-container-id-3 div.sk-parallel {display: flex;align-items: stretch;justify-content: center;background-color: white;position: relative;}#sk-container-id-3 div.sk-item::before, #sk-container-id-3 div.sk-parallel-item::before {content: \"\";position: absolute;border-left: 1px solid gray;box-sizing: border-box;top: 0;bottom: 0;left: 50%;z-index: -1;}#sk-container-id-3 div.sk-parallel-item {display: flex;flex-direction: column;z-index: 1;position: relative;background-color: white;}#sk-container-id-3 div.sk-parallel-item:first-child::after {align-self: flex-end;width: 50%;}#sk-container-id-3 div.sk-parallel-item:last-child::after {align-self: flex-start;width: 50%;}#sk-container-id-3 div.sk-parallel-item:only-child::after {width: 0;}#sk-container-id-3 div.sk-dashed-wrapped {border: 1px dashed gray;margin: 0 0.4em 0.5em 0.4em;box-sizing: border-box;padding-bottom: 0.4em;background-color: white;}#sk-container-id-3 div.sk-label label {font-family: monospace;font-weight: bold;display: inline-block;line-height: 1.2em;}#sk-container-id-3 div.sk-label-container {text-align: center;}#sk-container-id-3 div.sk-container {/* jupyter's `normalize.less` sets `[hidden] { display: none; }` but bootstrap.min.css set `[hidden] { display: none !important; }` so we also need the `!important` here to be able to override the default hidden behavior on the sphinx rendered scikit-learn.org. See: https://github.com/scikit-learn/scikit-learn/issues/21755 */display: inline-block !important;position: relative;}#sk-container-id-3 div.sk-text-repr-fallback {display: none;}</style><div id=\"sk-container-id-3\" class=\"sk-top-container\"><div class=\"sk-text-repr-fallback\"><pre>GridSearchCV(cv=5, estimator=RandomForestRegressor(),\n",
              "             param_grid={&#x27;max_depth&#x27;: [None, 10, 20],\n",
              "                         &#x27;n_estimators&#x27;: [100, 200, 300]})</pre><b>In a Jupyter environment, please rerun this cell to show the HTML representation or trust the notebook. <br />On GitHub, the HTML representation is unable to render, please try loading this page with nbviewer.org.</b></div><div class=\"sk-container\" hidden><div class=\"sk-item sk-dashed-wrapped\"><div class=\"sk-label-container\"><div class=\"sk-label sk-toggleable\"><input class=\"sk-toggleable__control sk-hidden--visually\" id=\"sk-estimator-id-8\" type=\"checkbox\" ><label for=\"sk-estimator-id-8\" class=\"sk-toggleable__label sk-toggleable__label-arrow\">GridSearchCV</label><div class=\"sk-toggleable__content\"><pre>GridSearchCV(cv=5, estimator=RandomForestRegressor(),\n",
              "             param_grid={&#x27;max_depth&#x27;: [None, 10, 20],\n",
              "                         &#x27;n_estimators&#x27;: [100, 200, 300]})</pre></div></div></div><div class=\"sk-parallel\"><div class=\"sk-parallel-item\"><div class=\"sk-item\"><div class=\"sk-label-container\"><div class=\"sk-label sk-toggleable\"><input class=\"sk-toggleable__control sk-hidden--visually\" id=\"sk-estimator-id-9\" type=\"checkbox\" ><label for=\"sk-estimator-id-9\" class=\"sk-toggleable__label sk-toggleable__label-arrow\">estimator: RandomForestRegressor</label><div class=\"sk-toggleable__content\"><pre>RandomForestRegressor()</pre></div></div></div><div class=\"sk-serial\"><div class=\"sk-item\"><div class=\"sk-estimator sk-toggleable\"><input class=\"sk-toggleable__control sk-hidden--visually\" id=\"sk-estimator-id-10\" type=\"checkbox\" ><label for=\"sk-estimator-id-10\" class=\"sk-toggleable__label sk-toggleable__label-arrow\">RandomForestRegressor</label><div class=\"sk-toggleable__content\"><pre>RandomForestRegressor()</pre></div></div></div></div></div></div></div></div></div></div>"
            ]
          },
          "metadata": {},
          "execution_count": 24
        }
      ]
    },
    {
      "cell_type": "code",
      "source": [
        "# Try combining multiple models into an ensemble model to improve accuracy (e.g., VotingRegressor)\n",
        "ensemble_model = VotingRegressor([('lr', model_lr), ('rf', model_rf), ('xgb', model_xgb)])\n",
        "ensemble_model.fit(X_train, y_train)\n"
      ],
      "metadata": {
        "colab": {
          "base_uri": "https://localhost:8080/",
          "height": 110
        },
        "id": "UoGNvetP-efM",
        "outputId": "a05a96c7-e464-497a-b54d-94f9c95719d7"
      },
      "execution_count": 25,
      "outputs": [
        {
          "output_type": "execute_result",
          "data": {
            "text/plain": [
              "VotingRegressor(estimators=[('lr', LinearRegression()),\n",
              "                            ('rf', RandomForestRegressor()),\n",
              "                            ('xgb',\n",
              "                             XGBRegressor(base_score=None, booster=None,\n",
              "                                          callbacks=None,\n",
              "                                          colsample_bylevel=None,\n",
              "                                          colsample_bynode=None,\n",
              "                                          colsample_bytree=None,\n",
              "                                          early_stopping_rounds=None,\n",
              "                                          enable_categorical=False,\n",
              "                                          eval_metric=None, feature_types=None,\n",
              "                                          gamma=None, gpu_id=None,\n",
              "                                          grow_policy=None,\n",
              "                                          importance_type=None,\n",
              "                                          interaction_constraints=None,\n",
              "                                          learning_rate=None, max_bin=None,\n",
              "                                          max_cat_threshold=None,\n",
              "                                          max_cat_to_onehot=None,\n",
              "                                          max_delta_step=None, max_depth=None,\n",
              "                                          max_leaves=None,\n",
              "                                          min_child_weight=None, missing=nan,\n",
              "                                          monotone_constraints=None,\n",
              "                                          n_estimators=100, n_jobs=None,\n",
              "                                          num_parallel_tree=None,\n",
              "                                          predictor=None, random_state=None, ...))])"
            ],
            "text/html": [
              "<style>#sk-container-id-4 {color: black;background-color: white;}#sk-container-id-4 pre{padding: 0;}#sk-container-id-4 div.sk-toggleable {background-color: white;}#sk-container-id-4 label.sk-toggleable__label {cursor: pointer;display: block;width: 100%;margin-bottom: 0;padding: 0.3em;box-sizing: border-box;text-align: center;}#sk-container-id-4 label.sk-toggleable__label-arrow:before {content: \"▸\";float: left;margin-right: 0.25em;color: #696969;}#sk-container-id-4 label.sk-toggleable__label-arrow:hover:before {color: black;}#sk-container-id-4 div.sk-estimator:hover label.sk-toggleable__label-arrow:before {color: black;}#sk-container-id-4 div.sk-toggleable__content {max-height: 0;max-width: 0;overflow: hidden;text-align: left;background-color: #f0f8ff;}#sk-container-id-4 div.sk-toggleable__content pre {margin: 0.2em;color: black;border-radius: 0.25em;background-color: #f0f8ff;}#sk-container-id-4 input.sk-toggleable__control:checked~div.sk-toggleable__content {max-height: 200px;max-width: 100%;overflow: auto;}#sk-container-id-4 input.sk-toggleable__control:checked~label.sk-toggleable__label-arrow:before {content: \"▾\";}#sk-container-id-4 div.sk-estimator input.sk-toggleable__control:checked~label.sk-toggleable__label {background-color: #d4ebff;}#sk-container-id-4 div.sk-label input.sk-toggleable__control:checked~label.sk-toggleable__label {background-color: #d4ebff;}#sk-container-id-4 input.sk-hidden--visually {border: 0;clip: rect(1px 1px 1px 1px);clip: rect(1px, 1px, 1px, 1px);height: 1px;margin: -1px;overflow: hidden;padding: 0;position: absolute;width: 1px;}#sk-container-id-4 div.sk-estimator {font-family: monospace;background-color: #f0f8ff;border: 1px dotted black;border-radius: 0.25em;box-sizing: border-box;margin-bottom: 0.5em;}#sk-container-id-4 div.sk-estimator:hover {background-color: #d4ebff;}#sk-container-id-4 div.sk-parallel-item::after {content: \"\";width: 100%;border-bottom: 1px solid gray;flex-grow: 1;}#sk-container-id-4 div.sk-label:hover label.sk-toggleable__label {background-color: #d4ebff;}#sk-container-id-4 div.sk-serial::before {content: \"\";position: absolute;border-left: 1px solid gray;box-sizing: border-box;top: 0;bottom: 0;left: 50%;z-index: 0;}#sk-container-id-4 div.sk-serial {display: flex;flex-direction: column;align-items: center;background-color: white;padding-right: 0.2em;padding-left: 0.2em;position: relative;}#sk-container-id-4 div.sk-item {position: relative;z-index: 1;}#sk-container-id-4 div.sk-parallel {display: flex;align-items: stretch;justify-content: center;background-color: white;position: relative;}#sk-container-id-4 div.sk-item::before, #sk-container-id-4 div.sk-parallel-item::before {content: \"\";position: absolute;border-left: 1px solid gray;box-sizing: border-box;top: 0;bottom: 0;left: 50%;z-index: -1;}#sk-container-id-4 div.sk-parallel-item {display: flex;flex-direction: column;z-index: 1;position: relative;background-color: white;}#sk-container-id-4 div.sk-parallel-item:first-child::after {align-self: flex-end;width: 50%;}#sk-container-id-4 div.sk-parallel-item:last-child::after {align-self: flex-start;width: 50%;}#sk-container-id-4 div.sk-parallel-item:only-child::after {width: 0;}#sk-container-id-4 div.sk-dashed-wrapped {border: 1px dashed gray;margin: 0 0.4em 0.5em 0.4em;box-sizing: border-box;padding-bottom: 0.4em;background-color: white;}#sk-container-id-4 div.sk-label label {font-family: monospace;font-weight: bold;display: inline-block;line-height: 1.2em;}#sk-container-id-4 div.sk-label-container {text-align: center;}#sk-container-id-4 div.sk-container {/* jupyter's `normalize.less` sets `[hidden] { display: none; }` but bootstrap.min.css set `[hidden] { display: none !important; }` so we also need the `!important` here to be able to override the default hidden behavior on the sphinx rendered scikit-learn.org. See: https://github.com/scikit-learn/scikit-learn/issues/21755 */display: inline-block !important;position: relative;}#sk-container-id-4 div.sk-text-repr-fallback {display: none;}</style><div id=\"sk-container-id-4\" class=\"sk-top-container\"><div class=\"sk-text-repr-fallback\"><pre>VotingRegressor(estimators=[(&#x27;lr&#x27;, LinearRegression()),\n",
              "                            (&#x27;rf&#x27;, RandomForestRegressor()),\n",
              "                            (&#x27;xgb&#x27;,\n",
              "                             XGBRegressor(base_score=None, booster=None,\n",
              "                                          callbacks=None,\n",
              "                                          colsample_bylevel=None,\n",
              "                                          colsample_bynode=None,\n",
              "                                          colsample_bytree=None,\n",
              "                                          early_stopping_rounds=None,\n",
              "                                          enable_categorical=False,\n",
              "                                          eval_metric=None, feature_types=None,\n",
              "                                          gamma=None, gpu_id=None,\n",
              "                                          grow_policy=None,\n",
              "                                          importance_type=None,\n",
              "                                          interaction_constraints=None,\n",
              "                                          learning_rate=None, max_bin=None,\n",
              "                                          max_cat_threshold=None,\n",
              "                                          max_cat_to_onehot=None,\n",
              "                                          max_delta_step=None, max_depth=None,\n",
              "                                          max_leaves=None,\n",
              "                                          min_child_weight=None, missing=nan,\n",
              "                                          monotone_constraints=None,\n",
              "                                          n_estimators=100, n_jobs=None,\n",
              "                                          num_parallel_tree=None,\n",
              "                                          predictor=None, random_state=None, ...))])</pre><b>In a Jupyter environment, please rerun this cell to show the HTML representation or trust the notebook. <br />On GitHub, the HTML representation is unable to render, please try loading this page with nbviewer.org.</b></div><div class=\"sk-container\" hidden><div class=\"sk-item sk-dashed-wrapped\"><div class=\"sk-label-container\"><div class=\"sk-label sk-toggleable\"><input class=\"sk-toggleable__control sk-hidden--visually\" id=\"sk-estimator-id-11\" type=\"checkbox\" ><label for=\"sk-estimator-id-11\" class=\"sk-toggleable__label sk-toggleable__label-arrow\">VotingRegressor</label><div class=\"sk-toggleable__content\"><pre>VotingRegressor(estimators=[(&#x27;lr&#x27;, LinearRegression()),\n",
              "                            (&#x27;rf&#x27;, RandomForestRegressor()),\n",
              "                            (&#x27;xgb&#x27;,\n",
              "                             XGBRegressor(base_score=None, booster=None,\n",
              "                                          callbacks=None,\n",
              "                                          colsample_bylevel=None,\n",
              "                                          colsample_bynode=None,\n",
              "                                          colsample_bytree=None,\n",
              "                                          early_stopping_rounds=None,\n",
              "                                          enable_categorical=False,\n",
              "                                          eval_metric=None, feature_types=None,\n",
              "                                          gamma=None, gpu_id=None,\n",
              "                                          grow_policy=None,\n",
              "                                          importance_type=None,\n",
              "                                          interaction_constraints=None,\n",
              "                                          learning_rate=None, max_bin=None,\n",
              "                                          max_cat_threshold=None,\n",
              "                                          max_cat_to_onehot=None,\n",
              "                                          max_delta_step=None, max_depth=None,\n",
              "                                          max_leaves=None,\n",
              "                                          min_child_weight=None, missing=nan,\n",
              "                                          monotone_constraints=None,\n",
              "                                          n_estimators=100, n_jobs=None,\n",
              "                                          num_parallel_tree=None,\n",
              "                                          predictor=None, random_state=None, ...))])</pre></div></div></div><div class=\"sk-parallel\"><div class=\"sk-parallel-item\"><div class=\"sk-item\"><div class=\"sk-label-container\"><div class=\"sk-label sk-toggleable\"><label>lr</label></div></div><div class=\"sk-serial\"><div class=\"sk-item\"><div class=\"sk-estimator sk-toggleable\"><input class=\"sk-toggleable__control sk-hidden--visually\" id=\"sk-estimator-id-12\" type=\"checkbox\" ><label for=\"sk-estimator-id-12\" class=\"sk-toggleable__label sk-toggleable__label-arrow\">LinearRegression</label><div class=\"sk-toggleable__content\"><pre>LinearRegression()</pre></div></div></div></div></div></div><div class=\"sk-parallel-item\"><div class=\"sk-item\"><div class=\"sk-label-container\"><div class=\"sk-label sk-toggleable\"><label>rf</label></div></div><div class=\"sk-serial\"><div class=\"sk-item\"><div class=\"sk-estimator sk-toggleable\"><input class=\"sk-toggleable__control sk-hidden--visually\" id=\"sk-estimator-id-13\" type=\"checkbox\" ><label for=\"sk-estimator-id-13\" class=\"sk-toggleable__label sk-toggleable__label-arrow\">RandomForestRegressor</label><div class=\"sk-toggleable__content\"><pre>RandomForestRegressor()</pre></div></div></div></div></div></div><div class=\"sk-parallel-item\"><div class=\"sk-item\"><div class=\"sk-label-container\"><div class=\"sk-label sk-toggleable\"><label>xgb</label></div></div><div class=\"sk-serial\"><div class=\"sk-item\"><div class=\"sk-estimator sk-toggleable\"><input class=\"sk-toggleable__control sk-hidden--visually\" id=\"sk-estimator-id-14\" type=\"checkbox\" ><label for=\"sk-estimator-id-14\" class=\"sk-toggleable__label sk-toggleable__label-arrow\">XGBRegressor</label><div class=\"sk-toggleable__content\"><pre>XGBRegressor(base_score=None, booster=None, callbacks=None,\n",
              "             colsample_bylevel=None, colsample_bynode=None,\n",
              "             colsample_bytree=None, early_stopping_rounds=None,\n",
              "             enable_categorical=False, eval_metric=None, feature_types=None,\n",
              "             gamma=None, gpu_id=None, grow_policy=None, importance_type=None,\n",
              "             interaction_constraints=None, learning_rate=None, max_bin=None,\n",
              "             max_cat_threshold=None, max_cat_to_onehot=None,\n",
              "             max_delta_step=None, max_depth=None, max_leaves=None,\n",
              "             min_child_weight=None, missing=nan, monotone_constraints=None,\n",
              "             n_estimators=100, n_jobs=None, num_parallel_tree=None,\n",
              "             predictor=None, random_state=None, ...)</pre></div></div></div></div></div></div></div></div></div></div>"
            ]
          },
          "metadata": {},
          "execution_count": 25
        }
      ]
    },
    {
      "cell_type": "code",
      "source": [
        "from sklearn.linear_model import LinearRegression\n",
        "from sklearn.ensemble import RandomForestRegressor\n",
        "from xgboost import XGBRegressor\n",
        "from sklearn.metrics import mean_absolute_error, mean_squared_error, r2_score\n",
        "\n",
        "# Initialize the models\n",
        "model_lr = LinearRegression()\n",
        "model_rf = RandomForestRegressor()\n",
        "model_xgb = XGBRegressor()\n",
        "\n",
        "# Fit the models with training data\n",
        "model_lr.fit(X_train, y_train)\n",
        "model_rf.fit(X_train, y_train)\n",
        "model_xgb.fit(X_train, y_train)\n",
        "\n",
        "# Make predictions for each model\n",
        "y_pred_lr = model_lr.predict(X_test)\n",
        "y_pred_rf = model_rf.predict(X_test)\n",
        "y_pred_xgb = model_xgb.predict(X_test)\n",
        "\n",
        "# Calculate MAE for each model\n",
        "mae_lr = mean_absolute_error(y_test, y_pred_lr)\n",
        "mae_rf = mean_absolute_error(y_test, y_pred_rf)\n",
        "mae_xgb = mean_absolute_error(y_test, y_pred_xgb)\n",
        "\n",
        "# Calculate RMSE for each model\n",
        "rmse_lr = mean_squared_error(y_test, y_pred_lr, squared=False)\n",
        "rmse_rf = mean_squared_error(y_test, y_pred_rf, squared=False)\n",
        "rmse_xgb = mean_squared_error(y_test, y_pred_xgb, squared=False)\n",
        "\n",
        "# Calculate R-squared for each model\n",
        "r2_lr = r2_score(y_test, y_pred_lr)\n",
        "r2_rf = r2_score(y_test, y_pred_rf)\n",
        "r2_xgb = r2_score(y_test, y_pred_xgb)\n",
        "\n",
        "# Print the results for each model\n",
        "print(\"Linear Regression Metrics:\")\n",
        "print(\"MAE:\", mae_lr)\n",
        "print(\"RMSE:\", rmse_lr)\n",
        "print(\"R-squared:\", r2_lr)\n",
        "\n",
        "print(\"\\nRandom Forest Metrics:\")\n",
        "print(\"MAE:\", mae_rf)\n",
        "print(\"RMSE:\", rmse_rf)\n",
        "print(\"R-squared:\", r2_rf)\n",
        "\n",
        "print(\"\\nXGBoost Metrics:\")\n",
        "print(\"MAE:\", mae_xgb)\n",
        "print(\"RMSE:\", rmse_xgb)\n",
        "print(\"R-squared:\", r2_xgb)\n"
      ],
      "metadata": {
        "colab": {
          "base_uri": "https://localhost:8080/"
        },
        "id": "1xmtznoI-h64",
        "outputId": "a76fe168-544c-4882-849d-5dfee8901388"
      },
      "execution_count": 26,
      "outputs": [
        {
          "output_type": "stream",
          "name": "stdout",
          "text": [
            "Linear Regression Metrics:\n",
            "MAE: 3.941897523111186e-09\n",
            "RMSE: 6.302411126944488e-09\n",
            "R-squared: 1.0\n",
            "\n",
            "Random Forest Metrics:\n",
            "MAE: 73.50843157486203\n",
            "RMSE: 116.77690807981828\n",
            "R-squared: 0.9994011546479196\n",
            "\n",
            "XGBoost Metrics:\n",
            "MAE: 88.63671878209449\n",
            "RMSE: 148.04425063478055\n",
            "R-squared: 0.9990375374699821\n"
          ]
        }
      ]
    },
    {
      "cell_type": "code",
      "source": [
        "# Load the test dataset (replace 'test.csv' with the filename of your test dataset)\n",
        "test_data = pd.read_csv('/content/test.csv')\n",
        "\n",
        "# Check if 'Date' column exists in the test dataset before dropping it\n",
        "if 'Date' in test_data.columns:\n",
        "    X_test = test_data.drop(['Close', 'Date'], axis=1)\n",
        "else:\n",
        "    X_test = test_data.drop(['Close'], axis=1)\n"
      ],
      "metadata": {
        "id": "mjcZwccyJbF4"
      },
      "execution_count": 36,
      "outputs": []
    },
    {
      "cell_type": "code",
      "source": [
        "# Initialize the models\n",
        "model_lr = LinearRegression()\n",
        "model_rf = RandomForestRegressor()\n",
        "model_xgb = XGBRegressor()\n",
        "\n",
        "# Fit the models with training data\n",
        "model_lr.fit(X_train, y_train)\n",
        "model_rf.fit(X_train, y_train)\n",
        "model_xgb.fit(X_train, y_train)\n",
        "\n",
        "# Make predictions using your trained models on the test dataset\n",
        "y_pred_lr = model_lr.predict(X_test)\n",
        "y_pred_rf = model_rf.predict(X_test)\n",
        "y_pred_xgb = model_xgb.predict(X_test)\n",
        "\n",
        "# Calculate evaluation metrics for the predictions (MAE, RMSE, R-squared)\n",
        "mae_lr = mean_absolute_error(y_test, y_pred_lr)\n",
        "rmse_lr = mean_squared_error(y_test, y_pred_lr, squared=False)\n",
        "r2_lr = r2_score(y_test, y_pred_lr)\n",
        "\n",
        "mae_rf = mean_absolute_error(y_test, y_pred_rf)\n",
        "rmse_rf = mean_squared_error(y_test, y_pred_rf, squared=False)\n",
        "r2_rf = r2_score(y_test, y_pred_rf)\n",
        "\n",
        "mae_xgb = mean_absolute_error(y_test, y_pred_xgb)\n",
        "rmse_xgb = mean_squared_error(y_test, y_pred_xgb, squared=False)\n",
        "r2_xgb = r2_score(y_test, y_pred_xgb)\n",
        "\n",
        "# Print the evaluation metrics for each model on the test dataset\n",
        "print(\"Linear Regression Metrics on Test Dataset:\")\n",
        "print(\"MAE:\", mae_lr)\n",
        "print(\"RMSE:\", rmse_lr)\n",
        "print(\"R-squared:\", r2_lr)\n",
        "\n",
        "print(\"\\nRandom Forest Metrics on Test Dataset:\")\n",
        "print(\"MAE:\", mae_rf)\n",
        "print(\"RMSE:\", rmse_rf)\n",
        "print(\"R-squared:\", r2_rf)\n",
        "\n",
        "print(\"\\nXGBoost Metrics on Test Dataset:\")\n",
        "print(\"MAE:\", mae_xgb)\n",
        "print(\"RMSE:\", rmse_xgb)\n",
        "print(\"R-squared:\", r2_xgb)\n"
      ],
      "metadata": {
        "colab": {
          "base_uri": "https://localhost:8080/"
        },
        "id": "HPncKwAbKf__",
        "outputId": "cae42c20-6b3c-4980-f58a-ec9cbafc5ba0"
      },
      "execution_count": 37,
      "outputs": [
        {
          "output_type": "stream",
          "name": "stdout",
          "text": [
            "Linear Regression Metrics on Test Dataset:\n",
            "MAE: 3.941897523111186e-09\n",
            "RMSE: 6.302411126944488e-09\n",
            "R-squared: 1.0\n",
            "\n",
            "Random Forest Metrics on Test Dataset:\n",
            "MAE: 77.40969136756298\n",
            "RMSE: 130.15338702797396\n",
            "R-squared: 0.9992561049179626\n",
            "\n",
            "XGBoost Metrics on Test Dataset:\n",
            "MAE: 88.63671878209449\n",
            "RMSE: 148.04425063478055\n",
            "R-squared: 0.9990375374699821\n"
          ]
        }
      ]
    }
  ]
}